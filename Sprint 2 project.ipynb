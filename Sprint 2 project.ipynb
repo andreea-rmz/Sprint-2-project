{
 "cells": [
  {
   "cell_type": "markdown",
   "metadata": {},
   "source": [
    "Hola Andrea!\n",
    "\n",
    "Soy **Patricio Requena** 👋. Es un placer ser el revisor de tu proyecto el día de hoy!\n",
    "\n",
    "Revisaré tu proyecto detenidamente con el objetivo de ayudarte a mejorar y perfeccionar tus habilidades. Durante mi revisión, identificaré áreas donde puedas hacer mejoras en tu código, señalando específicamente qué y cómo podrías ajustar para optimizar el rendimiento y la claridad de tu proyecto. Además, es importante para mí destacar los aspectos que has manejado excepcionalmente bien. Reconocer tus fortalezas te ayudará a entender qué técnicas y métodos están funcionando a tu favor y cómo puedes aplicarlos en futuras tareas. \n",
    "\n",
    "_**Recuerda que al final de este notebook encontrarás un comentario general de mi parte**_, empecemos!\n",
    "\n",
    "Encontrarás mis comentarios dentro de cajas verdes, amarillas o rojas, ⚠️ **por favor, no muevas, modifiques o borres mis comentarios** ⚠️:\n",
    "\n",
    "\n",
    "<div class=\"alert alert-block alert-success\">\n",
    "<b>Comentario del revisor</b> <a class=“tocSkip”></a>\n",
    "Si todo está perfecto.\n",
    "</div>\n",
    "\n",
    "<div class=\"alert alert-block alert-warning\">\n",
    "<b>Comentario del revisor</b> <a class=“tocSkip”></a>\n",
    "Si tu código está bien pero se puede mejorar o hay algún detalle que le hace falta.\n",
    "</div>\n",
    "\n",
    "<div class=\"alert alert-block alert-danger\">\n",
    "<b>Comentario del revisor</b> <a class=“tocSkip”></a>\n",
    "Si de pronto hace falta algo o existe algún problema con tu código o conclusiones.\n",
    "</div>\n",
    "\n",
    "Puedes responderme de esta forma:\n",
    "<div class=\"alert alert-block alert-info\">\n",
    "<b>Respuesta del estudiante</b> <a class=“tocSkip”></a>\n",
    "</div>"
   ]
  },
  {
   "cell_type": "markdown",
   "metadata": {
    "id": "UCjlyTyyJm9R"
   },
   "source": [
    "\n",
    "\n",
    "Todavía desempeñándote como miembro del equipo analítico, en el primer proyecto hemos sentado las bases para la segunda fase. ¡Hemos llegado! Ahora aplicarás técnicas avanzadas para extraer datos significativos, atendiendo a las crecientes necesidades del cliente."
   ]
  },
  {
   "cell_type": "markdown",
   "metadata": {
    "id": "4ZzATQthJm9Y"
   },
   "source": [
    "Como sabes, las empresas recopilan y almacenan datos de una forma particular. Store 1 quiere almacenar toda la información de sus clientes en una tabla.\n",
    "\n",
    "\n",
    "| user_id | user_name | user_age | purchase_category | spending_per_category |\n",
    "| --- | --- | --- | --- | --- |\n",
    "| '32415' | 'mike', 'reed' | 32 | 'electronics', 'sport', 'books' | 894, 213, 173 |\n",
    "| '31980' | 'kate', 'morgan' | 24 | 'clothes', 'shoes' | 439, 390 |\n",
    "\n",
    "En términos técnicos, una tabla es simplemente una lista anidada que contiene una sublista para cada usuario o usuaria.\n",
    "\n",
    "Store 1 ha creado una tabla de este tipo para sus usuarios. Está almacenada en la variable \"users\". Cada sublista contiene el ID del usuario, nombre y apellido, edad, categorías favoritas y el importe gastado en cada categoría."
   ]
  },
  {
   "cell_type": "markdown",
   "metadata": {
    "id": "EMQlsEYlxGET"
   },
   "source": [
    "-\t**user_id:** el identificador único para cada usuario.\n",
    "-\t**user_name:** el nombre de usuario.\n",
    "-\t**user_age:** la edad del usuario.\n",
    "-\t**fav_categories:** las categorías de artículos comprados por el usuario, como 'ELECTRONICS', 'SPORT', 'BOOKS', etc.\n",
    "-\t**total_spendings:** la lista de enteros que indican la cantidad gastada en cada una de sus categorías favoritas.\n"
   ]
  },
  {
   "cell_type": "code",
   "execution_count": 1,
   "metadata": {
    "id": "LfBCH4crxLOt"
   },
   "outputs": [],
   "source": [
    "users = [\n",
    "    ['32415', ' mike_reed ', 32.0, ['ELECTRONICS', 'SPORT', 'BOOKS'], [894, 213, 173]],\n",
    "    ['31980', 'kate morgan', 24.0, ['CLOTHES', 'BOOKS'], [439, 390]],\n",
    "    ['32156', ' john doe ', 37.0, ['ELECTRONICS', 'HOME', 'FOOD'], [459, 120, 99]],\n",
    "    ['32761', 'SAMANTHA SMITH', 29.0, ['CLOTHES', 'ELECTRONICS', 'BEAUTY'], [299, 679, 85]],\n",
    "    ['32984', 'David White', 41.0, ['BOOKS', 'HOME', 'SPORT'], [234, 329, 243]],\n",
    "    ['33001', 'emily brown', 26.0, ['BEAUTY', 'HOME', 'FOOD'], [213, 659, 79]],\n",
    "    ['33767', ' Maria Garcia', 33.0, ['CLOTHES', 'FOOD', 'BEAUTY'], [499, 189, 63]],\n",
    "    ['33912', 'JOSE MARTINEZ', 22.0, ['SPORT', 'ELECTRONICS', 'HOME'], [259, 549, 109]],\n",
    "    ['34009', 'lisa wilson ', 35.0, ['HOME', 'BOOKS', 'CLOTHES'], [329, 189, 329]],\n",
    "    ['34278', 'James Lee', 28.0, ['BEAUTY', 'CLOTHES', 'ELECTRONICS'], [189, 299, 579]],\n",
    "]\n"
   ]
  },
  {
   "cell_type": "markdown",
   "metadata": {
    "id": "vgnoxECvlWvr"
   },
   "source": [
    "# Paso 1\n",
    "\n",
    "En la última tarea de la primera parte de este proyecto escribiste código para:\n",
    "\n",
    "1. Eliminar todos los espacios iniciales y finales de los nombres, así como cualquier guion bajo.\n",
    "2. Convertir todas las edades en números enteros.\n",
    "3. Separar todos los nombres y apellidos en una sublista.\n",
    "\n",
    "Hagámoslo ahora una función para que podamos usarla para fijar a cualquier cliente. Nombra a tu función `clean_user`. Debe recibir una lista con toda la información del cliente (user_info), así como dos enteros. Uno de ellos señala el índice del nombre del cliente y el otro es el índice de la edad del cliente en la lista. Debe devolver la lista limpia después de aplicar todos los cambios anteriores. Pruébala llamándola, pasándole la lista `test_user[]` y luego muéstrala en pantalla.\n"
   ]
  },
  {
   "cell_type": "code",
   "execution_count": 2,
   "metadata": {
    "colab": {
     "base_uri": "https://localhost:8080/"
    },
    "id": "RN6LIlHelWvr",
    "outputId": "632ceadd-0f9a-46cf-91c1-b4bea53623d0"
   },
   "outputs": [
    {
     "name": "stdout",
     "output_type": "stream",
     "text": [
      "['32415', ['mike', 'reed'], 32, ['ELECTRONICS', 'SPORT', 'BOOKS'], [894, 213, 173]]\n"
     ]
    }
   ],
   "source": [
    "# define tu función aquí  \n",
    "def clean_user(user_info, name_index, age_index):\n",
    "    user_name_clean = user_info[name_index].strip().replace(\"_\",\" \")  #Paso 1: elimina del nombre espacios iniciales y finales, así como guiones\n",
    "    user_age_clean = int(user_info[age_index]) #Paso 2: convierte la edad en entero\n",
    "    user_name_clean = user_name_clean.split() # Paso 3: separa el nombre y el apellido en una sublista\n",
    "    user_info[name_index] = user_name_clean # reemplaza nombre original por nombre limpio\n",
    "    user_info[age_index] = user_age_clean #reemplaza edad original por edad limpia\n",
    "     \n",
    "    return user_info #devuelve los datos limpios\n",
    "# Prepara la lista con la información completa del usuario\n",
    "# Prueba la función\n",
    "test_user = ['32415', ' mike_reed ', 32.0, ['ELECTRONICS', 'SPORT', 'BOOKS'], [894, 213, 173]]\n",
    "name_index = 1\n",
    "age_index = 2\n",
    "\n",
    "print(clean_user(test_user,1,2))# completa aquí el llamado de la función"
   ]
  },
  {
   "cell_type": "markdown",
   "metadata": {
    "id": "E8u2OO1YlWvr"
   },
   "source": [
    "********Pista********\n",
    "\n",
    "Para implementar la función `clean_user`, efectúa los siguientes pasos:\n",
    "\n",
    "1. **Recortar y reemplazar:** utiliza `strip()` para eliminar espacios iniciales y finales del nombre del usuario y `replace('_', ' ')` para eliminar guiones bajos con espacios.\n",
    "2. **Convertir la edad:** convierte la edad en entero utilizando la función `int()`.\n",
    "3. **Separar el nombre:** utiliza el método `split()` para separar el nombre y el apellido, creando una sublista.\n",
    "\n",
    "Asegúrate de modificar la lista `user_info` que aparece actualizando el nombre y la edad con los datos limpios antes de devolver la lista. Prueba tu función con un usuario de ejemplo para verificar que funciona correctamente.\n"
   ]
  },
  {
   "cell_type": "markdown",
   "metadata": {},
   "source": [
    "<div class=\"alert alert-block alert-warning\">\n",
    "<b>Comentario del revisor (1ra Iteracion)</b> <a class=“tocSkip”></a>\n",
    "\n",
    "Perfecto! Bien hecho el llamado a la función. Aunque deberías usar las variables donde se han asignado los valores correspondientes \n",
    "</div>"
   ]
  },
  {
   "cell_type": "markdown",
   "metadata": {
    "id": "zF6ADQNLJm9W"
   },
   "source": [
    "# Paso 2\n",
    "\n",
    "Observa que todas las categorías favoritas están almacenadas en mayúsculas. Llena una nueva lista llamada `fav_categories_low` con las mismas categorías, pero en minúsculas, iterando sobre los valores en la lista `fav_categories`, modificándolos y luego añade los nuevos valores a la lista `fav_categories_low`. Como siempre, muestra el resultado final.\n"
   ]
  },
  {
   "cell_type": "code",
   "execution_count": 3,
   "metadata": {
    "colab": {
     "base_uri": "https://localhost:8080/"
    },
    "id": "Ltoq2LXjJm9W",
    "outputId": "5a05c845-8d3c-4890-8070-38ccb63dd5b4"
   },
   "outputs": [
    {
     "name": "stdout",
     "output_type": "stream",
     "text": [
      "['electronics', 'sport', 'books']\n"
     ]
    }
   ],
   "source": [
    "fav_categories = ['ELECTRONICS', 'SPORT', 'BOOKS']\n",
    "fav_categories_low = []\n",
    "\n",
    "# escribe tu código aquí\n",
    "for category in fav_categories: #itera sobre cata categoría\n",
    "    category.lower()            #convierte cada categoría en minuscula\n",
    "    fav_categories_low.append(category.lower())   #agrega a la lista users_categories_low las categorìas en minuscula\n",
    "\n",
    "print(fav_categories_low)"
   ]
  },
  {
   "cell_type": "markdown",
   "metadata": {},
   "source": [
    "<div class=\"alert alert-block alert-success\">\n",
    "<b>Comentario del revisor (1ra Iteracion)</b> <a class=“tocSkip”></a>\n",
    "\n",
    "Muy bien aplicado el uso del bucle for para cambiar a minúsculas las categorías\n",
    "</div>"
   ]
  },
  {
   "cell_type": "markdown",
   "metadata": {
    "id": "w0fevXJTJm9X"
   },
   "source": [
    "********Pista********\n",
    "\n",
    "Crea un bucle `for` que itere sobre la lista `fav_categories`. Utiliza el método `lower()` para transformar cada categoría a minúsculas. Luego, utiliza el método `append()` para agregar los valores actualizados a la lista `fav_categories_low`."
   ]
  },
  {
   "cell_type": "markdown",
   "metadata": {
    "id": "xhKqJwaqdrRu"
   },
   "source": [
    "# Paso 3\n",
    "\n",
    "Ahora hagamos lo mismo, pero para cada uno de los usuarios de la empresa. Llena una lista nueva llamada `users_categories_low` con los mismos usuarios, pero con sus categorías en minúsculas, iterando sobre los valores en la lista `users`, luego itera sobre los valores en `user_categories`, modificándolos, y después agrega los nuevos valores de usuarios a la lista `users_categories_low`. Como siempre, muestra el resultado final.\n"
   ]
  },
  {
   "cell_type": "code",
   "execution_count": 4,
   "metadata": {
    "colab": {
     "base_uri": "https://localhost:8080/"
    },
    "id": "uBfnDzZfdrR1",
    "outputId": "6e0b3a3b-c94e-4402-a9d1-dc88fe07256e"
   },
   "outputs": [
    {
     "name": "stdout",
     "output_type": "stream",
     "text": [
      "[['32415', ' mike_reed ', 32.0, ['electronics', 'sport', 'books'], [894, 213, 173]], ['31980', 'kate morgan', 24.0, ['clothes', 'books'], [439, 390]], ['32156', ' john doe ', 37.0, ['electronics', 'home', 'food'], [459, 120, 99]], ['32761', 'SAMANTHA SMITH', 29.0, ['clothes', 'electronics', 'beauty'], [299, 679, 85]], ['32984', 'David White', 41.0, ['books', 'home', 'sport'], [234, 329, 243]], ['33001', 'emily brown', 26.0, ['beauty', 'home', 'food'], [213, 659, 79]], ['33767', ' Maria Garcia', 33.0, ['clothes', 'food', 'beauty'], [499, 189, 63]], ['33912', 'JOSE MARTINEZ', 22.0, ['sport', 'electronics', 'home'], [259, 549, 109]], ['34009', 'lisa wilson ', 35.0, ['home', 'books', 'clothes'], [329, 189, 329]], ['34278', 'James Lee', 28.0, ['beauty', 'clothes', 'electronics'], [189, 299, 579]]]\n"
     ]
    }
   ],
   "source": [
    "users = [\n",
    "    ['32415', ' mike_reed ', 32.0, ['ELECTRONICS', 'SPORT', 'BOOKS'], [894, 213, 173]],\n",
    "    ['31980', 'kate morgan', 24.0, ['CLOTHES', 'BOOKS'], [439, 390]],\n",
    "    ['32156', ' john doe ', 37.0, ['ELECTRONICS', 'HOME', 'FOOD'], [459, 120, 99]],\n",
    "    ['32761', 'SAMANTHA SMITH', 29.0, ['CLOTHES', 'ELECTRONICS', 'BEAUTY'], [299, 679, 85]],\n",
    "    ['32984', 'David White', 41.0, ['BOOKS', 'HOME', 'SPORT'], [234, 329, 243]],\n",
    "    ['33001', 'emily brown', 26.0, ['BEAUTY', 'HOME', 'FOOD'], [213, 659, 79]],\n",
    "    ['33767', ' Maria Garcia', 33.0, ['CLOTHES', 'FOOD', 'BEAUTY'], [499, 189, 63]],\n",
    "    ['33912', 'JOSE MARTINEZ', 22.0, ['SPORT', 'ELECTRONICS', 'HOME'], [259, 549, 109]],\n",
    "    ['34009', 'lisa wilson ', 35.0, ['HOME', 'BOOKS', 'CLOTHES'], [329, 189, 329]],\n",
    "    ['34278', 'James Lee', 28.0, ['BEAUTY', 'CLOTHES', 'ELECTRONICS'], [189, 299, 579]],\n",
    "]\n",
    "\n",
    "users_categories_low = []\n",
    "\n",
    "# Itera sobre los usuarios\n",
    "for user in users:\n",
    "    categories_low = []\n",
    "    \n",
    "    for category in user[3]:  # user[3] es la lista de categorías, iteramos sobre esa sublista\n",
    "        lowered_category = category.lower() #crea nueva variable y convierte cada categoría en la sublista en minuscula\n",
    "        categories_low.append(lowered_category) #agrega a la lista categories_low la sublista en minuscula\n",
    "    user.insert(3, categories_low) #mete a la lista user en el ìndice 3 la sublista en min categories_low\n",
    "    user.pop(4)                      #elimina la sublista que ahora se recorrió al indice 4 \n",
    "    users_categories_low.append(user) #mete a la lista users_categories_low el user modificado\n",
    "\n",
    "# Muestra el resultado final\n",
    "print(users_categories_low)"
   ]
  },
  {
   "cell_type": "markdown",
   "metadata": {},
   "source": [
    "<div class=\"alert alert-block alert-success\">\n",
    "<b>Comentario del revisor (1ra Iteracion)</b> <a class=“tocSkip”></a>\n",
    "\n",
    "Buen trabajo! Obtuviste la nueva lista con las correcciones aplicadas en el bucle for\n",
    "</div>"
   ]
  },
  {
   "cell_type": "markdown",
   "metadata": {
    "id": "lom04QHKdrR1"
   },
   "source": [
    "********Pista********\n",
    "\n",
    "Crea un bucle `for` que itere sobre la lista `users`. Luego crea otro bucle `for` que itere sobre las categorías de usuarios para acceder al usuario y modificarlo. Utiliza el método `lower()` para transformar cada categoría a minúsculas. Luego, modifica al usuario eliminando la lista de categorías anteriores con `pop()` y con `insert()` inserta la nueva en su lugar. A continuación utiliza el método `append()` para agregar a los usuarios actualizados a la lista `users_categories_low`."
   ]
  },
  {
   "cell_type": "markdown",
   "metadata": {
    "id": "uisdgp0or8rS"
   },
   "source": [
    "# Paso 4\n",
    "\n",
    "Ahora, completemos el código de nuestra función `clean_user` para limpiar la categoría:\n",
    "1. Añade otro parámetro con el índice de categorías.\n",
    "2. Pon todos los nombres en minúsculas antes de aplicar \"strip\" y \"replace\".\n",
    "\n",
    "Después, crea un bucle y aplica tu función a toda la lista de usuarios, agregando tus resultados a la lista `users_clean`. Después muéstralo"
   ]
  },
  {
   "cell_type": "code",
   "execution_count": 5,
   "metadata": {
    "colab": {
     "base_uri": "https://localhost:8080/"
    },
    "id": "ioGD_Cs5r8ra",
    "outputId": "fddb59df-a686-4270-9a01-1803d53a0da9"
   },
   "outputs": [
    {
     "name": "stdout",
     "output_type": "stream",
     "text": [
      "[['32415', ['mike', 'reed'], 32, ['electronics', 'sport', 'books'], [894, 213, 173]], ['31980', ['kate', 'morgan'], 24, ['clothes', 'books'], [439, 390]], ['32156', ['john', 'doe'], 37, ['electronics', 'home', 'food'], [459, 120, 99]], ['32761', ['samantha', 'smith'], 29, ['clothes', 'electronics', 'beauty'], [299, 679, 85]], ['32984', ['david', 'white'], 41, ['books', 'home', 'sport'], [234, 329, 243]], ['33001', ['emily', 'brown'], 26, ['beauty', 'home', 'food'], [213, 659, 79]], ['33767', ['maria', 'garcia'], 33, ['clothes', 'food', 'beauty'], [499, 189, 63]], ['33912', ['jose', 'martinez'], 22, ['sport', 'electronics', 'home'], [259, 549, 109]], ['34009', ['lisa', 'wilson'], 35, ['home', 'books', 'clothes'], [329, 189, 329]], ['34278', ['james', 'lee'], 28, ['beauty', 'clothes', 'electronics'], [189, 299, 579]]]\n"
     ]
    }
   ],
   "source": [
    "# Función para limpiar los datos del usuario\n",
    "def clean_user(user_info, name_index, age_index, cat_index):\n",
    "    # Paso 1: pon todo en minúsculas y elimina del nombre espacios iniciales y finales, así como guiones\n",
    "    user_name_clean = user_info[name_index].lower().strip().replace(\"_\", \" \")\n",
    "    \n",
    "    # Paso 2: convierte la edad en entero\n",
    "    user_age_clean = int(user_info[age_index])\n",
    "\n",
    "    # Paso 3: separa el nombre y el apellido en una sublista\n",
    "    user_name_clean = user_name_clean.split()\n",
    "\n",
    "    # Paso 4: limpia las categorías usando un bucle for\n",
    "    categories_low = []\n",
    "    for category in user_info[cat_index]:\n",
    "        categories_low.append(category.lower())\n",
    "\n",
    "    # Actualiza la lista original con la información limpia\n",
    "    user_info[name_index] = user_name_clean  # Actualiza el nombre sucio por la variable limpia \n",
    "    user_info[age_index] = user_age_clean   # Actualiza la edad sucia por la variable limpia\n",
    "    user_info[cat_index] = categories_low  # Actualiza las categorías sucias por variables limpias\n",
    "\n",
    "    return user_info\n",
    "\n",
    "# Datos de usuarios originales\n",
    "users = [\n",
    "    ['32415', ' mike_reed ', 32.0, ['ELECTRONICS', 'SPORT', 'BOOKS'], [894, 213, 173]],\n",
    "    ['31980', 'kate morgan', 24.0, ['CLOTHES', 'BOOKS'], [439, 390]],\n",
    "    ['32156', ' john doe ', 37.0, ['ELECTRONICS', 'HOME', 'FOOD'], [459, 120, 99]],\n",
    "    ['32761', 'SAMANTHA SMITH', 29.0, ['CLOTHES', 'ELECTRONICS', 'BEAUTY'], [299, 679, 85]],\n",
    "    ['32984', 'David White', 41.0, ['BOOKS', 'HOME', 'SPORT'], [234, 329, 243]],\n",
    "    ['33001', 'emily brown', 26.0, ['BEAUTY', 'HOME', 'FOOD'], [213, 659, 79]],\n",
    "    ['33767', ' Maria Garcia', 33.0, ['CLOTHES', 'FOOD', 'BEAUTY'], [499, 189, 63]],\n",
    "    ['33912', 'JOSE MARTINEZ', 22.0, ['SPORT', 'ELECTRONICS', 'HOME'], [259, 549, 109]],\n",
    "    ['34009', 'lisa wilson ', 35.0, ['HOME', 'BOOKS', 'CLOTHES'], [329, 189, 329]],\n",
    "    ['34278', 'James Lee', 28.0, ['BEAUTY', 'CLOTHES', 'ELECTRONICS'], [189, 299, 579]],\n",
    "]\n",
    "\n",
    "# Índices para los campos\n",
    "name_index = 1\n",
    "age_index = 2\n",
    "cat_index = 3\n",
    "\n",
    "# Lista para los usuarios limpios\n",
    "users_cleaned = []\n",
    "\n",
    "# Bucle para limpiar todos los usuarios\n",
    "for user in users:\n",
    "    user_cleaned = clean_user(user, name_index, age_index, cat_index)\n",
    "    users_cleaned.append(user_cleaned)\n",
    "print(users_cleaned)\n",
    "# Mostrar la lista de usuarios limpios\n",
    "#for cleaned_user in users_cleaned:\n",
    "  #  print(cleaned_user)"
   ]
  },
  {
   "cell_type": "markdown",
   "metadata": {
    "id": "h5SOurz6r8ra"
   },
   "source": [
    "********Pista********\n",
    "\n",
    "Efectúa los siguientes pasos para implementar la función `clean_user`:\n",
    "\n",
    "1. **Copia y adapta:** copia el código de tu función anterior `clean_user`.\n",
    "\n",
    "2. **Pon el nombre en minúsculas:** antes de aplicar `split()` y `replace()`, aplica `lower()` al nombre del cliente.\n",
    "\n",
    "3. **Procesa las categorías:** agrega una sección nueva para gestionar las categorías. Pon cada categoría de la lista en minúsculas y almacénalas en una nueva lista.\n",
    "\n",
    "4. **Ejecuta tu código:** asegúrate de que la función `clean_user` actualice la lista `user_info` con el nombre, edad y categorías limpias. Haz un bucle en la lista `users` y llama a la función `clean_user`, pasando el usuario, `name_index`, `age_index` y `cat_index` para especificar los índices correctos para el nombre, la edad y las categorías, respectivamente.\n",
    "\n",
    "5. Guarda cada nuevo usuario limpio en la lista nueva `users_cleaned`.\n",
    "\n",
    "Muestra en pantalla la lista `users_cleaned` para asegurarte de que tu código realiza las respectivas transformaciones.\n"
   ]
  },
  {
   "cell_type": "markdown",
   "metadata": {},
   "source": [
    "<div class=\"alert alert-block alert-success\">\n",
    "<b>Comentario del revisor (1ra Iteracion)</b> <a class=“tocSkip”></a>\n",
    "\n",
    "Excelente uso de la función!\n",
    "</div>"
   ]
  },
  {
   "cell_type": "markdown",
   "metadata": {
    "id": "eONfrv9nJm9Y"
   },
   "source": [
    "# Paso 5\n",
    "\n",
    "La empresa desea conocer sus ingresos totales y te pide que proporciones este valor.\n",
    "Para calcular los ingresos de la empresa, sigue estos pasos:\n",
    "\n",
    "1. Utiliza `for` para iterar sobre la lista `users`.\n",
    "2. Extrae la lista de gastos de cada usuario y suma los valores.\n",
    "3. Actualiza el valor de los ingresos con el total de cada usuario.\n",
    "\n",
    "Así obtendrás los ingresos totales de la empresa que mostrarás en la pantalla al final.\n"
   ]
  },
  {
   "cell_type": "code",
   "execution_count": 6,
   "metadata": {
    "colab": {
     "base_uri": "https://localhost:8080/"
    },
    "id": "ijzboKgoJm9Y",
    "outputId": "9aad5fe8-55ec-475b-9b40-afc590ae05e6"
   },
   "outputs": [
    {
     "name": "stdout",
     "output_type": "stream",
     "text": [
      "9189\n"
     ]
    }
   ],
   "source": [
    "users = [['32415', ['mike', 'reed'], 32, ['electronics', 'sport', 'books'], [894, 213, 173]],\n",
    "         ['31980', ['kate', 'morgan'], 24, ['clothes', 'books'], [439, 390]],\n",
    "         ['32156', ['john', 'doe'], 37, ['electronics', 'home', 'food'], [459, 120, 99]],\n",
    "         ['32761', ['samantha', 'smith'], 29, ['clothes', 'electronics', 'beauty'], [299, 679, 85]],\n",
    "         ['32984', ['david', 'white'], 41, ['books', 'home', 'sport'], [234, 329, 243]],\n",
    "         ['33001', ['emily', 'brown'], 26, ['beauty', 'home', 'food'], [213, 659, 79]],\n",
    "         ['33767', ['maria', 'garcia'], 33, ['clothes', 'food', 'beauty'], [499, 189, 63]],\n",
    "         ['33912', ['jose', 'martinez'], 22, ['sport', 'electronics', 'home'], [259, 549, 109]],\n",
    "         ['34009', ['lisa', 'wilson'], 35, ['home', 'books', 'clothes'], [329, 189, 329]],\n",
    "         ['34278', ['james', 'lee'], 28, ['beauty', 'clothes', 'electronics'], [189, 299, 579]]]\n",
    "\n",
    "revenue = 0\n",
    "\n",
    "for user in users:\n",
    "\t# escribe tu código aquí\n",
    "    spendings_list = user[4]\n",
    "    total_spendings = sum(spendings_list)\n",
    "    revenue += total_spendings\n",
    "\n",
    "print(revenue) "
   ]
  },
  {
   "cell_type": "markdown",
   "metadata": {
    "id": "s_1nxg0nJm9Y"
   },
   "source": [
    "********Pista********\n",
    "\n",
    "Para extraer la lista de gastos realizados por un usuario, utiliza la indexación y asígnala a la variable `spendings_list`. Luego, utiliza la función integrada para calcular la suma de `spending_list`. Por último, actualiza el valor de `revenue` añadiéndole  `total_spendings` mediante la asignación aumentada."
   ]
  },
  {
   "cell_type": "markdown",
   "metadata": {},
   "source": [
    "<div class=\"alert alert-block alert-success\">\n",
    "<b>Comentario del revisor (1ra Iteracion)</b> <a class=“tocSkip”></a>\n",
    "\n",
    "Perfecto! Bien usado el operador para la sumatoria dentro del bucle\n",
    "</div>"
   ]
  },
  {
   "cell_type": "markdown",
   "metadata": {
    "id": "R1wNYes8Jm9X"
   },
   "source": [
    "# Paso 6\n",
    "\n",
    "La empresa quiere ofrecer descuentos a sus clientes leales. Los clientes que realizan compras por un importe total mayor a $1500 se consideran leales y recibirán un descuento.\n",
    "\n",
    "Nuestro objetivo es crear un bucle `while` que compruebe el importe total gastado y se detenga al alcanzarlo. Para simular nuevas compras, la variable `new_purchase` genera un número entre 30 y 80 en cada iteración del bucle. Esto representa la cantidad de dinero gastada en una nueva compra y es lo que debes agregar al total.\n",
    "\n",
    "Una vez que se alcance el importe objetivo y se termine el bucle `while`, se mostrará la cantidad final.\n"
   ]
  },
  {
   "cell_type": "code",
   "execution_count": 7,
   "metadata": {
    "colab": {
     "base_uri": "https://localhost:8080/"
    },
    "id": "eVBfoyx7Jm9X",
    "outputId": "27091cb5-f5f4-4b74-f92a-c2d822354a40"
   },
   "outputs": [
    {
     "name": "stdout",
     "output_type": "stream",
     "text": [
      "1570\n"
     ]
    }
   ],
   "source": [
    "from random import randint\n",
    "\n",
    "total_amount_spent = 1280\n",
    "target_amount = 1500\n",
    "\n",
    "while total_amount_spent < target_amount:# escribe tu código aquí\n",
    "\tnew_purchase = randint(30, 80) # generamos un número aleatorio de 30 a 80\n",
    "\ttotal_amount_spent += new_purchase # escribe tu código aquí\n",
    "\n",
    "print(total_amount_spent) # debe ser 1551"
   ]
  },
  {
   "cell_type": "markdown",
   "metadata": {
    "id": "u7GIkFFnJm9Y"
   },
   "source": [
    "********Pista********\n",
    "\n",
    "En el bucle `while`, debes comparar `total_amount_spent` (importe total gastado) con `target_amount` (importe objetivo). Durante cada iteración del bucle, actualiza la variable `total_amount_spent` agregándole el valor `new_purchase`."
   ]
  },
  {
   "cell_type": "markdown",
   "metadata": {
    "id": "IoyNnalCJm9Z"
   },
   "source": [
    "# Paso 7\n",
    "\n",
    "Recorre la lista de usuarios que te hemos proporcionado y muestra los nombres de los clientes menores de 30 años.\n"
   ]
  },
  {
   "cell_type": "code",
   "execution_count": 8,
   "metadata": {
    "colab": {
     "base_uri": "https://localhost:8080/"
    },
    "id": "pn5WkcpJJm9Z",
    "outputId": "e95fe449-868e-4a89-f9e6-6e3c7b62bd80"
   },
   "outputs": [
    {
     "name": "stdout",
     "output_type": "stream",
     "text": [
      "kate\n",
      "samantha\n",
      "emily\n",
      "jose\n",
      "james\n"
     ]
    }
   ],
   "source": [
    "users = [['32415', ['mike', 'reed'], 32, ['electronics', 'sport', 'books'], [894, 213, 173]],\n",
    "         ['31980', ['kate', 'morgan'], 24, ['clothes', 'books'], [439, 390]],\n",
    "         ['32156', ['john', 'doe'], 37, ['electronics', 'home', 'food'], [459, 120, 99]],\n",
    "         ['32761', ['samantha', 'smith'], 29, ['clothes', 'electronics', 'beauty'], [299, 679, 85]],\n",
    "         ['32984', ['david', 'white'], 41, ['books', 'home', 'sport'], [234, 329, 243]],\n",
    "         ['33001', ['emily', 'brown'], 26, ['beauty', 'home', 'food'], [213, 659, 79]],\n",
    "         ['33767', ['maria', 'garcia'], 33, ['clothes', 'food', 'beauty'], [499, 189, 63]],\n",
    "         ['33912', ['jose', 'martinez'], 22, ['sport', 'electronics', 'home'], [259, 549, 109]],\n",
    "         ['34009', ['lisa', 'wilson'], 35, ['home', 'books', 'clothes'], [329, 189, 329]],\n",
    "         ['34278', ['james', 'lee'], 28, ['beauty', 'clothes', 'electronics'], [189, 299, 579]]]\n",
    "\n",
    "\n",
    "# escribe tu código aquí\n",
    "for user in users:\n",
    "    if user[2] < 30:\n",
    "        print(user[1][0])"
   ]
  },
  {
   "cell_type": "markdown",
   "metadata": {
    "id": "23wCUaWZJm9Z"
   },
   "source": [
    "********Pista********\n",
    "\n",
    "Utiliza el bucle for para iterar sobre cada fila de la tabla. Utiliza `if` dentro de un bucle `for` para imprimir el nombre de usuario o usuaria. El campo `age` tiene el índice 2"
   ]
  },
  {
   "cell_type": "markdown",
   "metadata": {},
   "source": [
    "<div class=\"alert alert-block alert-success\">\n",
    "<b>Comentario del revisor (1ra Iteracion)</b> <a class=“tocSkip”></a>\n",
    "\n",
    "Correcto! El uso de condicionales es un paso importante para definir la lógica en tus proyectos\n",
    "</div>"
   ]
  },
  {
   "cell_type": "markdown",
   "metadata": {
    "id": "0ok38JMoJm9Z"
   },
   "source": [
    "# Paso 8\n",
    "\n",
    "Mostremos en pantalla los nombres de los usuarios menores de 30 años que acumulan un gasto total superior a 1000 dólares.\n"
   ]
  },
  {
   "cell_type": "code",
   "execution_count": 9,
   "metadata": {
    "colab": {
     "base_uri": "https://localhost:8080/"
    },
    "id": "4oAW1QDFJm9Z",
    "outputId": "c514027b-62cc-42bd-a8bb-d29975abd663"
   },
   "outputs": [
    {
     "name": "stdout",
     "output_type": "stream",
     "text": [
      "samantha\n",
      "james\n"
     ]
    }
   ],
   "source": [
    "users = [['32415', ['mike', 'reed'], 32, ['electronics', 'sport', 'books'], [894, 213, 173]],\n",
    "         ['31980', ['kate', 'morgan'], 24, ['clothes', 'books'], [439, 390]],\n",
    "         ['32156', ['john', 'doe'], 37, ['electronics', 'home', 'food'], [459, 120, 99]],\n",
    "         ['32761', ['samantha', 'smith'], 29, ['clothes', 'electronics', 'beauty'], [299, 679, 85]],\n",
    "         ['32984', ['david', 'white'], 41, ['books', 'home', 'sport'], [234, 329, 243]],\n",
    "         ['33001', ['emily', 'brown'], 26, ['beauty', 'home', 'food'], [213, 659, 79]],\n",
    "         ['33767', ['maria', 'garcia'], 33, ['clothes', 'food', 'beauty'], [499, 189, 63]],\n",
    "         ['33912', ['jose', 'martinez'], 22, ['sport', 'electronics', 'home'], [259, 549, 109]],\n",
    "         ['34009', ['lisa', 'wilson'], 35, ['home', 'books', 'clothes'], [329, 189, 329]],\n",
    "         ['34278', ['james', 'lee'], 28, ['beauty', 'clothes', 'electronics'], [189, 299, 579]]]\n",
    "\n",
    "# escribe tu código aquí \n",
    "for user in users:\n",
    "    total_spending = sum(user[4])  \n",
    "    if user[2] < 30 and  total_spending > 1000:\n",
    "        print(user[1][0])"
   ]
  },
  {
   "cell_type": "markdown",
   "metadata": {
    "id": "5atbF9e_Jm9Z"
   },
   "source": [
    "********Pista********\n",
    "\n",
    "Utiliza el bucle for para iterar sobre cada fila de la tabla. Utiliza `if` dentro de un bucle `for` para imprimir el nombre de usuario o usuaria. El campo `age` tiene el índice 2. Utiliza la función `sum` para sumar los gastos y luego comprueba si es mayor de 1000 dólares."
   ]
  },
  {
   "cell_type": "markdown",
   "metadata": {
    "id": "H2jI5ljVJm9d"
   },
   "source": [
    "# Paso 9\n",
    "\n",
    "Ahora vamos a mostrar el nombre y la edad de todos los usuarios y todas las usuarias que han comprado ropa (\"clothes\"). Imprime el nombre y la edad en la misma declaración print.\n"
   ]
  },
  {
   "cell_type": "code",
   "execution_count": 10,
   "metadata": {
    "colab": {
     "base_uri": "https://localhost:8080/"
    },
    "id": "oSLk86udJm9d",
    "outputId": "5c323307-6591-4af9-c2d2-529a329367d6"
   },
   "outputs": [
    {
     "name": "stdout",
     "output_type": "stream",
     "text": [
      "kate 24\n",
      "samantha 29\n",
      "maria 33\n",
      "lisa 35\n",
      "james 28\n"
     ]
    }
   ],
   "source": [
    "users = [['32415', ['mike', 'reed'], 32, ['electronics', 'sport', 'books'], [894, 213, 173]],\n",
    "         ['31980', ['kate', 'morgan'], 24, ['clothes', 'books'], [439, 390]],\n",
    "         ['32156', ['john', 'doe'], 37, ['electronics', 'home', 'food'], [459, 120, 99]],\n",
    "         ['32761', ['samantha', 'smith'], 29, ['clothes', 'electronics', 'beauty'], [299, 679, 85]],\n",
    "         ['32984', ['david', 'white'], 41, ['books', 'home', 'sport'], [234, 329, 243]],\n",
    "         ['33001', ['emily', 'brown'], 26, ['beauty', 'home', 'food'], [213, 659, 79]],\n",
    "         ['33767', ['maria', 'garcia'], 33, ['clothes', 'food', 'beauty'], [499, 189, 63]],\n",
    "         ['33912', ['jose', 'martinez'], 22, ['sport', 'electronics', 'home'], [259, 549, 109]],\n",
    "         ['34009', ['lisa', 'wilson'], 35, ['home', 'books', 'clothes'], [329, 189, 329]],\n",
    "         ['34278', ['james', 'lee'], 28, ['beauty', 'clothes', 'electronics'], [189, 299, 579]]]\n",
    "\n",
    "# escribe tu código aquí\n",
    "for user in users:\n",
    "    firstname = user[1][0]\n",
    "    age = user[2]\n",
    "    if \"clothes\" in user[3]:\n",
    "        print(firstname, age)"
   ]
  },
  {
   "cell_type": "markdown",
   "metadata": {
    "id": "EasWyEPqJm9d"
   },
   "source": [
    "********Pista********\n",
    "\n",
    "Utiliza el bucle for para iterar sobre cada fila de la tabla. A continuación, utiliza otro bucle para comprobar si este usuario ha comprado ropa (\"clothes\") y, en caso afirmativo, muestra el nombre y la edad dentro de la misma declaración print, separándolos por comas: `print(firstname, age)`."
   ]
  },
  {
   "cell_type": "markdown",
   "metadata": {
    "id": "88QES-0NJzCJ"
   },
   "source": [
    "# Paso 10\n",
    "\n",
    "La dirección requiere de una función que proporcione información sobre los clientes, incluyendo sus nombres, edades y gasto total, filtrada por categorías específicas. Con base en fragmentos de código anteriores, crearemos una función llamada `get_client_by_cat` con las siguientes especificaciones:\n",
    "\n",
    "1. **Parámetros:**\n",
    "   - **users:** una lista con los datos de los usuarios.\n",
    "   - **id_index:** el índice donde está almacenado el ID del cliente en la lista de usuarios.\n",
    "   - **name_index:** el índice donde está almacenado el nombre del cliente en la lista de usuarios.\n",
    "   - **age_index:** el índice donde la edad del cliente está almacenada en la lista de usuarios.\n",
    "   - **category_index:** el índice donde las categorías de compras del cliente están listadas.\n",
    "   - **amounts_index:** el índice donde las cantidades gastadas en cada categoría están almacenadas.\n",
    "   - **filter_category:** un string que representa el nombre de la categoría para filtrar clientes.\n",
    "\n",
    "2. **Salida:**\n",
    "   - La función devuelve una lista de sublistas. Cada sublista contiene:\n",
    "     - El número ID del cliente.\n",
    "     - Una sublista con el nombre y apellido del cliente.\n",
    "     - La edad del cliente.\n",
    "     - Un entero que representa la cantidad total gastada por el cliente.\n",
    "\n",
    "Por ejemplo, si llamas a la función con los siguientes parámetros:\n",
    "\n",
    "\n",
    "```python\n",
    "get_client_by_cat([\n",
    "    ['32415', ['mike', 'reed'], 32, ['electronics', 'sport', 'books'], [894, 213, 173]]\n",
    "], 0, 1, 2, 3, 4, 'books')\n",
    "```\n",
    "\n",
    "La salida será:\n",
    "\n",
    "```python\n",
    "[['32415', ['mike', 'reed'], 32, 1280]]\n",
    "```\n",
    "\n",
    "Esta salida muestra que el cliente con el ID '32415', llamado Mike Reed, de 32 años, gastó un total de 1280 en la categoría 'books' y otras compras.\n",
    "\n",
    "Después de hacer tu función, llámala pasándole nuestra lista de usuarios, los índices adecuados y la categoría 'home' y muestra en pantalla la lista que resulta.\n",
    "\n"
   ]
  },
  {
   "cell_type": "code",
   "execution_count": 11,
   "metadata": {
    "colab": {
     "base_uri": "https://localhost:8080/"
    },
    "id": "-Iqf7AcXJzCP",
    "outputId": "ab62869b-a028-4096-9553-e0a5b5a8c92e"
   },
   "outputs": [
    {
     "name": "stdout",
     "output_type": "stream",
     "text": [
      "[['32156', ['john', 'doe'], 37, 678], ['32984', ['david', 'white'], 41, 806], ['33001', ['emily', 'brown'], 26, 951], ['33912', ['jose', 'martinez'], 22, 917], ['34009', ['lisa', 'wilson'], 35, 847]]\n"
     ]
    }
   ],
   "source": [
    "def get_client_by_cat(users, id_index, name_index, age_index, category_index, amounts_index, filter_category):# escribe tu código aquí\n",
    "    result = []  #lista vacìa para almacenar el resultado\n",
    "    for user in users:# escribe tu código aquí\n",
    "        categories = user[category_index] #definimos las categorías\n",
    "        amounts = user[amounts_index] #definimos el total de compras\n",
    "        \n",
    "        if filter_category in categories: #si la categoría por la que filtramos está en la lista de categorías del cliente\n",
    "            total_spending = sum(amounts)   #sumamos los gastos\n",
    "            result.append([user[id_index], user[name_index], user[age_index], total_spending]) #y metemos la sublista a la lista vacía result\n",
    "    return result\n",
    "        \n",
    "        \n",
    "\n",
    "# La lista de usuarios\n",
    "users = [\n",
    "    ['32415', ['mike', 'reed'], 32, ['electronics', 'sport', 'books'], [894, 213, 173]],\n",
    "    ['31980', ['kate', 'morgan'], 24, ['clothes', 'books'], [439, 390]],\n",
    "    ['32156', ['john', 'doe'], 37, ['electronics', 'home', 'food'], [459, 120, 99]],\n",
    "    ['32761', ['samantha', 'smith'], 29, ['clothes', 'electronics', 'beauty'], [299, 679, 85]],\n",
    "    ['32984', ['david', 'white'], 41, ['books', 'home', 'sport'], [234, 329, 243]],\n",
    "    ['33001', ['emily', 'brown'], 26, ['beauty', 'home', 'food'], [213, 659, 79]],\n",
    "    ['33767', ['maria', 'garcia'], 33, ['clothes', 'food', 'beauty'], [499, 189, 63]],\n",
    "    ['33912', ['jose', 'martinez'], 22, ['sport', 'electronics', 'home'], [259, 549, 109]],\n",
    "    ['34009', ['lisa', 'wilson'], 35, ['home', 'books', 'clothes'], [329, 189, 329]],\n",
    "    ['34278', ['james', 'lee'], 28, ['beauty', 'clothes', 'electronics'], [189, 299, 579]]\n",
    "]\n",
    "\n",
    "# Llama a la función con la categoría 'home'\n",
    "result = get_client_by_cat(users, 0, 1, 2, 3, 4, \"home\")# escribe tu código aquí\n",
    "\n",
    "#El ID está en la posición 0\n",
    "#El Nombre en la posición 1\n",
    "#La Edad en la posición 2\n",
    "#Las Categorías en la posición 3\n",
    "#Y los Gastos en la posición 4\n",
    "\n",
    "# Muestra en pantalla la lista que resulta\n",
    "print(result)\n",
    "\n"
   ]
  },
  {
   "cell_type": "markdown",
   "metadata": {
    "id": "wkWQL9Z9JzCP"
   },
   "source": [
    "********Pista********\n",
    "\n",
    "Utiliza un bucle for para iterar sobre cada usuario en la lista. Para cada usuario, verifica que la categoría deseada (\"filter_category\") esté en su lista de categorías de compras. Si se encuentra la categoría, calcula la cantidad total gastada sumando las cantidades en la lista correspondiente. Después, crea una sublista con el ID, nombre (como una lista de nombres y apellidos), edad y cantidad total gastada del usuario. Añade esta sublista a la lista final que resulta."
   ]
  },
  {
   "cell_type": "markdown",
   "metadata": {},
   "source": [
    "<div class=\"alert alert-block alert-info\">\n",
    "<b>Comentario general (1ra Iteracion)</b> <a class=“tocSkip”></a>\n",
    "    \n",
    "\n",
    "Hiciste un buen trabajo con tu proyecto aplicando Python! Recuerda que la práctica hace al maestro y prácticar los conceptos vistos aquí e incluso profundizando en diferentes soluciones te ayudará en tus próximos proyectos. Al principio puede ser un poco complicado entender la lógica y la sintaxis en si, pero con práctica tus habilidades se irán puliendo.\n",
    "<br>\n",
    "<br>\n",
    "Los condicionales, los bucles, las listas, son elementos que verás a lo largo de tu carrera cómo Data Analyst por lo que entender cómo utilizarlos te ayudará a que avances de mejor manera en tus siguientes pasos como Data Analyst!\n",
    "<br>\n",
    "<br>\n",
    "Un saludo! 🦾\n",
    "</div>"
   ]
  }
 ],
 "metadata": {
  "ExecuteTimeLog": [
   {
    "duration": 9,
    "start_time": "2024-09-06T04:00:13.183Z"
   },
   {
    "duration": 3,
    "start_time": "2024-09-06T04:00:45.772Z"
   },
   {
    "duration": 3,
    "start_time": "2024-09-06T04:03:57.132Z"
   },
   {
    "duration": 4,
    "start_time": "2024-09-06T04:39:12.319Z"
   },
   {
    "duration": 7,
    "start_time": "2024-09-06T04:47:44.761Z"
   },
   {
    "duration": 8,
    "start_time": "2024-09-06T04:48:15.741Z"
   },
   {
    "duration": 6,
    "start_time": "2024-09-06T04:48:25.543Z"
   },
   {
    "duration": 163,
    "start_time": "2024-09-06T04:48:35.275Z"
   },
   {
    "duration": 21,
    "start_time": "2024-09-06T04:55:29.010Z"
   },
   {
    "duration": 27,
    "start_time": "2024-09-06T04:56:49.050Z"
   },
   {
    "duration": 4,
    "start_time": "2024-09-06T04:57:26.038Z"
   },
   {
    "duration": 25,
    "start_time": "2024-09-06T04:57:28.260Z"
   },
   {
    "duration": 57,
    "start_time": "2024-09-06T05:00:06.829Z"
   },
   {
    "duration": 32,
    "start_time": "2024-09-06T05:01:39.389Z"
   },
   {
    "duration": 33,
    "start_time": "2024-09-06T05:02:43.117Z"
   },
   {
    "duration": 26,
    "start_time": "2024-09-06T05:04:53.168Z"
   },
   {
    "duration": 26,
    "start_time": "2024-09-06T05:05:25.374Z"
   },
   {
    "duration": 22,
    "start_time": "2024-09-06T05:06:27.136Z"
   },
   {
    "duration": 4,
    "start_time": "2024-09-06T05:06:39.229Z"
   },
   {
    "duration": 21,
    "start_time": "2024-09-06T05:06:42.568Z"
   },
   {
    "duration": 28,
    "start_time": "2024-09-06T05:08:01.109Z"
   },
   {
    "duration": 21,
    "start_time": "2024-09-06T05:08:42.841Z"
   },
   {
    "duration": 27,
    "start_time": "2024-09-06T05:09:14.235Z"
   },
   {
    "duration": 7,
    "start_time": "2024-09-06T05:11:20.942Z"
   },
   {
    "duration": 7,
    "start_time": "2024-09-06T05:11:25.882Z"
   },
   {
    "duration": 7,
    "start_time": "2024-09-06T05:11:43.710Z"
   },
   {
    "duration": 7,
    "start_time": "2024-09-06T05:11:47.334Z"
   },
   {
    "duration": 27,
    "start_time": "2024-09-06T05:11:54.404Z"
   },
   {
    "duration": 7,
    "start_time": "2024-09-06T05:13:13.188Z"
   },
   {
    "duration": 6,
    "start_time": "2024-09-06T05:13:17.387Z"
   },
   {
    "duration": 21,
    "start_time": "2024-09-06T05:13:26.300Z"
   },
   {
    "duration": 22,
    "start_time": "2024-09-06T05:13:41.920Z"
   },
   {
    "duration": 10,
    "start_time": "2024-09-06T05:14:38.602Z"
   },
   {
    "duration": 7,
    "start_time": "2024-09-06T05:14:48.651Z"
   },
   {
    "duration": 7,
    "start_time": "2024-09-06T05:14:55.693Z"
   },
   {
    "duration": 8,
    "start_time": "2024-09-06T05:15:32.278Z"
   },
   {
    "duration": 27,
    "start_time": "2024-09-06T05:16:05.612Z"
   },
   {
    "duration": 27,
    "start_time": "2024-09-06T05:16:27.897Z"
   },
   {
    "duration": 32,
    "start_time": "2024-09-06T05:19:35.548Z"
   },
   {
    "duration": 26,
    "start_time": "2024-09-06T05:20:52.243Z"
   },
   {
    "duration": 25,
    "start_time": "2024-09-06T05:21:17.075Z"
   },
   {
    "duration": 28,
    "start_time": "2024-09-06T05:27:29.472Z"
   },
   {
    "duration": 28,
    "start_time": "2024-09-06T05:31:36.808Z"
   },
   {
    "duration": 11,
    "start_time": "2024-09-06T23:51:44.279Z"
   },
   {
    "duration": 6,
    "start_time": "2024-09-06T23:52:13.727Z"
   },
   {
    "duration": 168,
    "start_time": "2024-09-06T23:52:19.081Z"
   },
   {
    "duration": 13,
    "start_time": "2024-09-06T23:55:26.873Z"
   },
   {
    "duration": 3,
    "start_time": "2024-09-07T00:02:43.042Z"
   },
   {
    "duration": 5,
    "start_time": "2024-09-07T00:15:27.213Z"
   },
   {
    "duration": 5,
    "start_time": "2024-09-07T00:15:50.390Z"
   },
   {
    "duration": 5,
    "start_time": "2024-09-07T00:16:41.917Z"
   },
   {
    "duration": 6,
    "start_time": "2024-09-07T00:20:45.881Z"
   },
   {
    "duration": 6,
    "start_time": "2024-09-07T00:20:52.773Z"
   },
   {
    "duration": 4,
    "start_time": "2024-09-07T00:23:02.929Z"
   },
   {
    "duration": 12,
    "start_time": "2024-09-07T15:53:46.973Z"
   },
   {
    "duration": 7,
    "start_time": "2024-09-07T15:53:57.311Z"
   },
   {
    "duration": 5,
    "start_time": "2024-09-07T16:11:22.752Z"
   },
   {
    "duration": 6,
    "start_time": "2024-09-07T16:44:46.615Z"
   },
   {
    "duration": 11,
    "start_time": "2024-09-07T16:44:53.334Z"
   },
   {
    "duration": 12,
    "start_time": "2024-09-07T16:46:17.898Z"
   },
   {
    "duration": 198,
    "start_time": "2024-09-07T16:46:27.614Z"
   },
   {
    "duration": 43,
    "start_time": "2024-09-07T16:49:59.287Z"
   },
   {
    "duration": 61,
    "start_time": "2024-09-07T16:58:31.650Z"
   },
   {
    "duration": 35,
    "start_time": "2024-09-07T16:59:38.190Z"
   },
   {
    "duration": 28,
    "start_time": "2024-09-07T17:31:14.672Z"
   },
   {
    "duration": 7,
    "start_time": "2024-09-07T17:31:27.318Z"
   },
   {
    "duration": 7,
    "start_time": "2024-09-07T17:34:54.796Z"
   },
   {
    "duration": 6,
    "start_time": "2024-09-07T17:50:04.807Z"
   },
   {
    "duration": 6,
    "start_time": "2024-09-07T17:50:09.753Z"
   },
   {
    "duration": 3,
    "start_time": "2024-09-07T17:53:51.777Z"
   },
   {
    "duration": 3,
    "start_time": "2024-09-07T17:54:10.473Z"
   },
   {
    "duration": 3,
    "start_time": "2024-09-07T17:54:39.471Z"
   },
   {
    "duration": 4,
    "start_time": "2024-09-07T17:54:42.259Z"
   },
   {
    "duration": 4,
    "start_time": "2024-09-07T17:56:13.897Z"
   },
   {
    "duration": 4,
    "start_time": "2024-09-07T17:56:19.838Z"
   },
   {
    "duration": 3,
    "start_time": "2024-09-07T17:58:07.848Z"
   },
   {
    "duration": 3,
    "start_time": "2024-09-07T17:58:13.539Z"
   },
   {
    "duration": 3,
    "start_time": "2024-09-07T17:58:16.183Z"
   },
   {
    "duration": 3,
    "start_time": "2024-09-07T17:58:50.016Z"
   },
   {
    "duration": 4,
    "start_time": "2024-09-07T17:59:00.337Z"
   },
   {
    "duration": 3,
    "start_time": "2024-09-07T17:59:02.724Z"
   },
   {
    "duration": 3,
    "start_time": "2024-09-07T17:59:05.261Z"
   },
   {
    "duration": 6,
    "start_time": "2024-09-07T18:01:06.538Z"
   },
   {
    "duration": 5,
    "start_time": "2024-09-07T18:01:27.581Z"
   },
   {
    "duration": 19,
    "start_time": "2024-09-07T18:04:31.517Z"
   },
   {
    "duration": 21,
    "start_time": "2024-09-07T18:05:00.855Z"
   },
   {
    "duration": 20,
    "start_time": "2024-09-07T18:05:11.361Z"
   },
   {
    "duration": 29,
    "start_time": "2024-09-07T18:05:23.021Z"
   },
   {
    "duration": 18,
    "start_time": "2024-09-07T18:06:10.762Z"
   },
   {
    "duration": 6,
    "start_time": "2024-09-07T18:07:56.821Z"
   },
   {
    "duration": 5,
    "start_time": "2024-09-07T18:08:11.062Z"
   },
   {
    "duration": 9,
    "start_time": "2024-09-10T00:31:10.805Z"
   },
   {
    "duration": 6,
    "start_time": "2024-09-10T00:31:23.239Z"
   },
   {
    "duration": 5,
    "start_time": "2024-09-10T00:31:30.849Z"
   },
   {
    "duration": 5,
    "start_time": "2024-09-10T00:32:54.000Z"
   },
   {
    "duration": 5,
    "start_time": "2024-09-10T00:33:02.368Z"
   },
   {
    "duration": 5,
    "start_time": "2024-09-10T00:39:59.795Z"
   },
   {
    "duration": 172,
    "start_time": "2024-09-10T01:16:28.430Z"
   },
   {
    "duration": 28,
    "start_time": "2024-09-10T01:17:14.257Z"
   },
   {
    "duration": 21,
    "start_time": "2024-09-10T01:17:20.542Z"
   },
   {
    "duration": 52,
    "start_time": "2024-09-10T01:17:34.795Z"
   },
   {
    "duration": 7,
    "start_time": "2024-09-10T01:19:00.145Z"
   },
   {
    "duration": 7,
    "start_time": "2024-09-10T01:23:50.956Z"
   },
   {
    "duration": 26,
    "start_time": "2024-09-10T01:27:46.410Z"
   },
   {
    "duration": 14,
    "start_time": "2024-09-10T01:27:46.448Z"
   },
   {
    "duration": 3,
    "start_time": "2024-09-10T01:27:46.465Z"
   },
   {
    "duration": 6,
    "start_time": "2024-09-10T01:27:46.472Z"
   },
   {
    "duration": 10,
    "start_time": "2024-09-10T01:27:46.480Z"
   },
   {
    "duration": 8,
    "start_time": "2024-09-10T01:27:46.492Z"
   },
   {
    "duration": 14,
    "start_time": "2024-09-10T01:27:46.502Z"
   },
   {
    "duration": 7,
    "start_time": "2024-09-10T01:27:46.522Z"
   },
   {
    "duration": 7,
    "start_time": "2024-09-10T01:27:46.532Z"
   },
   {
    "duration": 7,
    "start_time": "2024-09-10T01:27:46.543Z"
   },
   {
    "duration": 9,
    "start_time": "2024-09-10T01:27:46.552Z"
   }
  ],
  "colab": {
   "provenance": []
  },
  "kernelspec": {
   "display_name": "Python 3 (ipykernel)",
   "language": "python",
   "name": "python3"
  },
  "language_info": {
   "codemirror_mode": {
    "name": "ipython",
    "version": 3
   },
   "file_extension": ".py",
   "mimetype": "text/x-python",
   "name": "python",
   "nbconvert_exporter": "python",
   "pygments_lexer": "ipython3",
   "version": "3.9.19"
  },
  "toc": {
   "base_numbering": 1,
   "nav_menu": {},
   "number_sections": true,
   "sideBar": true,
   "skip_h1_title": true,
   "title_cell": "Table of Contents",
   "title_sidebar": "Contents",
   "toc_cell": false,
   "toc_position": {},
   "toc_section_display": true,
   "toc_window_display": false
  }
 },
 "nbformat": 4,
 "nbformat_minor": 1
}
